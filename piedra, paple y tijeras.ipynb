{
  "nbformat": 4,
  "nbformat_minor": 0,
  "metadata": {
    "colab": {
      "name": "Untitled3.ipynb",
      "provenance": [],
      "authorship_tag": "ABX9TyP1qZRcsRsUbbUWPUF/cKWF",
      "include_colab_link": true
    },
    "kernelspec": {
      "name": "python3",
      "display_name": "Python 3"
    },
    "language_info": {
      "name": "python"
    }
  },
  "cells": [
    {
      "cell_type": "markdown",
      "metadata": {
        "id": "view-in-github",
        "colab_type": "text"
      },
      "source": [
        "<a href=\"https://colab.research.google.com/github/codewithprens/codewithprens/blob/main/piedra%2C%20paple%20y%20tijeras.ipynb\" target=\"_parent\"><img src=\"https://colab.research.google.com/assets/colab-badge.svg\" alt=\"Open In Colab\"/></a>"
      ]
    },
    {
      "cell_type": "code",
      "execution_count": null,
      "metadata": {
        "id": "i196zzYStY9f"
      },
      "outputs": [],
      "source": [
        "import random\n",
        "opcion_computador = random.randint(0,2)\n",
        "ganador = \"\"\n",
        "\n",
        "opcion_usuario = int(input(\"Elige 0:🪨 1:📄 2:✂️\"))\n",
        "if opcion_computador == opcion_usuario:\n",
        "  ganador = \"Empate\"\n",
        "elif opcion_computador == 1 and opcion_usuario == 0:\n",
        "  ganador = \"Computador\"\n",
        "elif opcion_computador == 0 and opcion_usuario == 2:\n",
        "  ganador = \"Computador\"\n",
        "elif opcion_computador == 2 and opcion_usuario == 1:\n",
        "  ganador = \"Computador\"\n",
        "else:\n",
        "  ganador = \"Usuario\"\n",
        "\n",
        "print(\"Opción computador\", opcion_computador)\n",
        "print(f\"El {ganador} gana\")"
      ]
    }
  ]
}